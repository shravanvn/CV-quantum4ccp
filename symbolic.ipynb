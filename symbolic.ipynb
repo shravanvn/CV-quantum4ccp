{
 "cells": [
  {
   "cell_type": "code",
   "execution_count": 133,
   "metadata": {},
   "outputs": [],
   "source": [
    "import sympy as sy\n",
    "import numpy as np\n",
    "from scipy.optimize import minimize, NonlinearConstraint"
   ]
  },
  {
   "cell_type": "code",
   "execution_count": 134,
   "metadata": {},
   "outputs": [],
   "source": [
    "gamma1, gamma2, gamma3, s1, s2, lam1, lam2 = sy.symbols('gamma_1, gamma_2, gamma_3, s_1, s_2, lambda_1, lambda_2')\n",
    "gamma = sy.Matrix([gamma1, gamma2, gamma3])\n",
    "a11, a12, a13, a21, a22, a23, a31, a32, a33 = sy.symbols('a_11, a_12, a_13, a_21, a_22, a_23, a_31, a_32, a_33')\n",
    "b1, b2, b3 = sy.symbols('b_1, b_2, b_3')\n",
    "variables = [gamma1, gamma2, gamma3, s1, s2, lam1, lam2]"
   ]
  },
  {
   "cell_type": "code",
   "execution_count": 135,
   "metadata": {},
   "outputs": [
    {
     "data": {
      "text/plain": [
       "(array([[ 2.00000000e+00, -1.39888101e-16,  0.00000000e+00],\n",
       "        [-1.39888101e-16,  2.00000000e+00,  0.00000000e+00],\n",
       "        [ 0.00000000e+00,  0.00000000e+00,  2.00000000e+00]]),\n",
       " array([-1.2,  1.6,  0. ]))"
      ]
     },
     "execution_count": 135,
     "metadata": {},
     "output_type": "execute_result"
    }
   ],
   "source": [
    "A = np.loadtxt('./cpcol/data/A.txt')\n",
    "b = np.loadtxt('./cpcol/data/b.txt')\n",
    "\n",
    "A, b"
   ]
  },
  {
   "cell_type": "code",
   "execution_count": 136,
   "metadata": {},
   "outputs": [],
   "source": [
    "# A = sy.Matrix([[a11, a12, a13],\n",
    "#                 [a21, a22, a23],\n",
    "#                 [a31, a32, a33]])\n",
    "# b = sy.Matrix([b1, b2, b3])\n",
    "# mu = sy.symbols('mu')\n",
    "# A = sy.Matrix([[2, 0, 0], [0, 2, 0], [0, 0, 2]])\n",
    "# b = sy.Matrix([-2, 0, 0])\n",
    "# A = sy.Matrix(np.random.rand(3, 3))\n",
    "# b = sy.Matrix(np.random.rand(3))\n",
    "# A = np.array([0.9172,    0.7537,    0.0759,\n",
    "#     0.2858,    0.3804,    0.0540,\n",
    "#     0.7572,    0.5678,    0.5308]).reshape(3, 3)\n",
    "\n",
    "\n",
    "# b = np.array([0.7792,\n",
    "#     0.9340,\n",
    "#     0.1299])\n",
    "# A = sy.Matrix(A)\n",
    "# b = sy.Matrix(b)\n",
    "\n",
    "mu = 1\n",
    "A = sy.Matrix(A)\n",
    "b = sy.Matrix(b)"
   ]
  },
  {
   "cell_type": "code",
   "execution_count": 137,
   "metadata": {},
   "outputs": [
    {
     "data": {
      "text/latex": [
       "$\\displaystyle 2 \\lambda_{1}^{2} s_{1}^{2} + 2 \\lambda_{2}^{2} s_{2}^{2} + \\frac{\\left(\\gamma_{1} - s_{2}^{2}\\right)^{2}}{2} + 2 \\left(- \\gamma_{3} \\lambda_{1} + 1.0 \\gamma_{3}\\right)^{2} + 2.0 \\left(- 6.99440505513849 \\cdot 10^{-17} \\gamma_{1} - 1.0 \\gamma_{2} \\lambda_{1} + \\gamma_{2} + 0.8\\right)^{2} + \\frac{\\left(\\gamma_{1}^{2} - \\gamma_{2}^{2} - \\gamma_{3}^{2} - s_{1}^{2}\\right)^{2}}{2} + 2 \\left(\\gamma_{1} \\lambda_{1} + 1.0 \\gamma_{1} - 6.99440505513849 \\cdot 10^{-17} \\gamma_{2} + \\frac{\\lambda_{2}}{2} - 0.6\\right)^{2}$"
      ],
      "text/plain": [
       "2*lambda_1**2*s_1**2 + 2*lambda_2**2*s_2**2 + (gamma_1 - s_2**2)**2/2 + 2*(-gamma_3*lambda_1 + 1.0*gamma_3)**2 + 2.0*(-6.99440505513849e-17*gamma_1 - 1.0*gamma_2*lambda_1 + gamma_2 + 0.8)**2 + (gamma_1**2 - gamma_2**2 - gamma_3**2 - s_1**2)**2/2 + 2*(gamma_1*lambda_1 + 1.0*gamma_1 - 6.99440505513849e-17*gamma_2 + lambda_2/2 - 0.6)**2"
      ]
     },
     "execution_count": 137,
     "metadata": {},
     "output_type": "execute_result"
    }
   ],
   "source": [
    "f = sy.Rational(1, 2)*gamma.T@A@gamma + b.T@gamma\n",
    "L = f[0] + lam1*(mu**2*gamma1**2 - gamma2**2 - gamma3**2 - s1**2) + lam2*(mu*gamma1 - s2**2)\n",
    "grad_L = [sy.diff(L, variables[i]) for i in range(len(variables))]\n",
    "H = sy.Rational(1, 2)*sum([entry**2 for entry in grad_L])\n",
    "constraint = mu*gamma1 - sy.sqrt(gamma2**2 + gamma3**2) # this whole thing should be >=0\n",
    "H"
   ]
  },
  {
   "cell_type": "code",
   "execution_count": 138,
   "metadata": {},
   "outputs": [
    {
     "data": {
      "text/latex": [
       "$\\displaystyle 2 X_{4}^{2} X_{6}^{2} + 2 X_{5}^{2} X_{7}^{2} + \\frac{\\left(X_{1} - X_{5}^{2}\\right)^{2}}{2} + 2 \\left(- X_{3} X_{6} + 1.0 X_{3}\\right)^{2} + 2.0 \\left(- 6.99440505513849 \\cdot 10^{-17} X_{1} - 1.0 X_{2} X_{6} + X_{2} + 0.8\\right)^{2} + \\frac{\\left(X_{1}^{2} - X_{2}^{2} - X_{3}^{2} - X_{4}^{2}\\right)^{2}}{2} + 2 \\left(X_{1} X_{6} + 1.0 X_{1} - 6.99440505513849 \\cdot 10^{-17} X_{2} + \\frac{X_{7}}{2} - 0.6\\right)^{2}$"
      ],
      "text/plain": [
       "2*X4**2*X6**2 + 2*X5**2*X7**2 + (X1 - X5**2)**2/2 + 2*(-X3*X6 + 1.0*X3)**2 + 2.0*(-6.99440505513849e-17*X1 - 1.0*X2*X6 + X2 + 0.8)**2 + (X1**2 - X2**2 - X3**2 - X4**2)**2/2 + 2*(X1*X6 + 1.0*X1 - 6.99440505513849e-17*X2 + X7/2 - 0.6)**2"
      ]
     },
     "execution_count": 138,
     "metadata": {},
     "output_type": "execute_result"
    }
   ],
   "source": [
    "X1, X2, X3, X4, X5, X6, X7 = sy.symbols('X1, X2, X3, X4, X5, X6, X7')\n",
    "q_variables = [X1, X2, X3, X4, X5, X6, X7]\n",
    "replacements = [(gamma1, X1), (gamma2, X2), (gamma3, X3), (s1, X4), (s2, X5), (lam1, X6), (lam2, X7)]\n",
    "H_new = H.subs(replacements)\n",
    "H_new"
   ]
  },
  {
   "cell_type": "code",
   "execution_count": 139,
   "metadata": {},
   "outputs": [
    {
     "data": {
      "text/latex": [
       "$\\displaystyle \\left[\\begin{matrix}2 X_{1} \\left(X_{1}^{2} - X_{2}^{2} - X_{3}^{2} - X_{4}^{2}\\right) + 1.0 X_{1} + 2.79776202205539 \\cdot 10^{-16} X_{2} X_{6} - 2.7977620220554 \\cdot 10^{-16} X_{2} - X_{5}^{2} + 2 \\left(2 X_{6} + 2.0\\right) \\left(X_{1} X_{6} + 1.0 X_{1} - 6.99440505513849 \\cdot 10^{-17} X_{2} + \\frac{X_{7}}{2} - 0.6\\right) - 2.23820961764432 \\cdot 10^{-16} & - 2.79776202205539 \\cdot 10^{-16} X_{1} X_{6} - 2.79776202205539 \\cdot 10^{-16} X_{1} - 2 X_{2} \\left(X_{1}^{2} - X_{2}^{2} - X_{3}^{2} - X_{4}^{2}\\right) + 1.95686808301387 \\cdot 10^{-32} X_{2} - 1.3988810110277 \\cdot 10^{-16} X_{7} + 2.0 \\left(2 - 2.0 X_{6}\\right) \\left(- 6.99440505513849 \\cdot 10^{-17} X_{1} - 1.0 X_{2} X_{6} + X_{2} + 0.8\\right) + 1.67865721323324 \\cdot 10^{-16} & - 2 X_{3} \\left(X_{1}^{2} - X_{2}^{2} - X_{3}^{2} - X_{4}^{2}\\right) + 2 \\left(2.0 - 2 X_{6}\\right) \\left(- X_{3} X_{6} + 1.0 X_{3}\\right) & 4 X_{4} X_{6}^{2} - 2 X_{4} \\left(X_{1}^{2} - X_{2}^{2} - X_{3}^{2} - X_{4}^{2}\\right) & 4 X_{5} X_{7}^{2} - 2 X_{5} \\left(X_{1} - X_{5}^{2}\\right) & 4 X_{1} \\left(X_{1} X_{6} + 1.0 X_{1} - 6.99440505513849 \\cdot 10^{-17} X_{2} + \\frac{X_{7}}{2} - 0.6\\right) - 4.0 X_{2} \\left(- 6.99440505513849 \\cdot 10^{-17} X_{1} - 1.0 X_{2} X_{6} + X_{2} + 0.8\\right) - 4 X_{3} \\left(- X_{3} X_{6} + 1.0 X_{3}\\right) + 4 X_{4}^{2} X_{6} & 2 X_{1} X_{6} + 2.0 X_{1} - 1.3988810110277 \\cdot 10^{-16} X_{2} + 4 X_{5}^{2} X_{7} + X_{7} - 1.2\\end{matrix}\\right]$"
      ],
      "text/plain": [
       "Matrix([[2*X1*(X1**2 - X2**2 - X3**2 - X4**2) + 1.0*X1 + 2.79776202205539e-16*X2*X6 - 2.7977620220554e-16*X2 - X5**2 + 2*(2*X6 + 2.0)*(X1*X6 + 1.0*X1 - 6.99440505513849e-17*X2 + X7/2 - 0.6) - 2.23820961764432e-16, -2.79776202205539e-16*X1*X6 - 2.79776202205539e-16*X1 - 2*X2*(X1**2 - X2**2 - X3**2 - X4**2) + 1.95686808301387e-32*X2 - 1.3988810110277e-16*X7 + 2.0*(2 - 2.0*X6)*(-6.99440505513849e-17*X1 - 1.0*X2*X6 + X2 + 0.8) + 1.67865721323324e-16, -2*X3*(X1**2 - X2**2 - X3**2 - X4**2) + 2*(2.0 - 2*X6)*(-X3*X6 + 1.0*X3), 4*X4*X6**2 - 2*X4*(X1**2 - X2**2 - X3**2 - X4**2), 4*X5*X7**2 - 2*X5*(X1 - X5**2), 4*X1*(X1*X6 + 1.0*X1 - 6.99440505513849e-17*X2 + X7/2 - 0.6) - 4.0*X2*(-6.99440505513849e-17*X1 - 1.0*X2*X6 + X2 + 0.8) - 4*X3*(-X3*X6 + 1.0*X3) + 4*X4**2*X6, 2*X1*X6 + 2.0*X1 - 1.3988810110277e-16*X2 + 4*X5**2*X7 + X7 - 1.2]])"
      ]
     },
     "execution_count": 139,
     "metadata": {},
     "output_type": "execute_result"
    }
   ],
   "source": [
    "Jacobian = sy.Matrix([sy.diff(H_new, q_variables[i]) for i in range(len(q_variables))]).T\n",
    "Jacobian"
   ]
  },
  {
   "cell_type": "code",
   "execution_count": 140,
   "metadata": {},
   "outputs": [
    {
     "data": {
      "text/plain": [
       "(np.float64(2.0),\n",
       " array([11.2,  4. ,  4. ,  8. ,  4. ,  8.4,  7.8]),\n",
       " array([[0.]]))"
      ]
     },
     "execution_count": 140,
     "metadata": {},
     "output_type": "execute_result"
    }
   ],
   "source": [
    "H_fun = sy.lambdify([(X1, X2, X3, X4, X5, X6, X7)], H_new)\n",
    "f_fun = sy.lambdify([(gamma1, gamma2, gamma3)], f)\n",
    "constraint_fun = sy.lambdify([(gamma1, gamma2, gamma3)], constraint)\n",
    "\n",
    "def jac(x):\n",
    "    Jacobian_fun = sy.lambdify([(X1, X2, X3, X4, X5, X6, X7)], Jacobian)\n",
    "    return Jacobian_fun(x).reshape(7)\n",
    "H_fun(np.zeros(7)), jac(np.ones(7)), f_fun(np.zeros(3))"
   ]
  },
  {
   "cell_type": "code",
   "execution_count": 141,
   "metadata": {},
   "outputs": [
    {
     "data": {
      "text/plain": [
       "  message: Optimization terminated successfully.\n",
       "  success: True\n",
       "   status: 0\n",
       "      fun: 5.332362426314192e-12\n",
       "        x: [ 7.000e-01 -7.000e-01 -3.947e-07  7.713e-06  8.367e-01\n",
       "            -1.429e-01 -5.160e-07]\n",
       "      nit: 17\n",
       "      jac: [ 1.373e-06  4.998e-06 -2.062e-06  6.296e-07 -1.301e-06\n",
       "             2.211e-06 -1.643e-06]\n",
       " hess_inv: [[ 3.273e-01 -2.681e-02 ... -1.410e-01 -9.524e-02]\n",
       "            [-2.681e-02  2.362e-01 ... -2.200e-01  9.404e-02]\n",
       "            ...\n",
       "            [-1.410e-01 -2.200e-01 ...  5.725e-01 -1.487e-01]\n",
       "            [-9.524e-02  9.404e-02 ... -1.487e-01  3.574e-01]]\n",
       "     nfev: 20\n",
       "     njev: 20"
      ]
     },
     "execution_count": 141,
     "metadata": {},
     "output_type": "execute_result"
    }
   ],
   "source": [
    "gamma_n0 = np.random.uniform(0, 1)\n",
    "scale = np.random.uniform(-1, 1, 2)\n",
    "gamma0 = np.array([gamma_n0, scale[0]*np.sqrt(gamma_n0**2/2), scale[0]*np.sqrt(gamma_n0**2/2)])\n",
    "s0 = np.random.uniform(0, 1, 2)\n",
    "lam0 = -np.random.uniform(0, 1, 2)\n",
    "x0 = np.concatenate((gamma0, s0, lam0))\n",
    "sol = minimize(H_fun, x0, method='BFGS', jac=jac)\n",
    "sol"
   ]
  },
  {
   "cell_type": "code",
   "execution_count": 142,
   "metadata": {},
   "outputs": [
    {
     "data": {
      "text/plain": [
       " message: Optimization terminated successfully\n",
       " success: True\n",
       "  status: 0\n",
       "     fun: -0.9800001768382682\n",
       "       x: [ 7.001e-01 -7.001e-01 -4.856e-05]\n",
       "     nit: 6\n",
       "     jac: [ 2.001e-01  1.999e-01 -9.711e-05]\n",
       "    nfev: 26\n",
       "    njev: 6"
      ]
     },
     "execution_count": 142,
     "metadata": {},
     "output_type": "execute_result"
    }
   ],
   "source": [
    "A = np.array(A)\n",
    "b = np.array(b)\n",
    "gam = sol.x[:3]\n",
    "f_fun(gam), constraint_fun(sol.x[:3])\n",
    "true = minimize(f_fun, x0[:3], constraints=NonlinearConstraint(constraint_fun, 0, np.inf))\n",
    "true"
   ]
  },
  {
   "cell_type": "code",
   "execution_count": 143,
   "metadata": {},
   "outputs": [
    {
     "name": "stdout",
     "output_type": "stream",
     "text": [
      "[ 6.99999908e-01 -6.99999431e-01 -3.94695439e-07] \n",
      " [ 7.00063336e-01 -7.00064272e-01 -4.85626164e-05] \n",
      "\n",
      "Error: 0.0001027021596859936\n"
     ]
    }
   ],
   "source": [
    "print(sol.x[:3], '\\n', true.x, '\\n\\nError:', np.linalg.norm(sol.x[:3] - true.x))"
   ]
  }
 ],
 "metadata": {
  "kernelspec": {
   "display_name": "cpcol",
   "language": "python",
   "name": "python3"
  },
  "language_info": {
   "codemirror_mode": {
    "name": "ipython",
    "version": 3
   },
   "file_extension": ".py",
   "mimetype": "text/x-python",
   "name": "python",
   "nbconvert_exporter": "python",
   "pygments_lexer": "ipython3",
   "version": "3.12.7"
  }
 },
 "nbformat": 4,
 "nbformat_minor": 2
}
